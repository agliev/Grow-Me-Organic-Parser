{
 "cells": [
  {
   "cell_type": "code",
   "execution_count": 6,
   "id": "7a1e3a02",
   "metadata": {},
   "outputs": [],
   "source": [
    "import pandas as pd\n",
    "import numpy as np\n",
    "import requests\n",
    "from time import sleep"
   ]
  },
  {
   "cell_type": "code",
   "execution_count": 2,
   "id": "5c69dc43",
   "metadata": {},
   "outputs": [],
   "source": [
    "headers = {\n",
    "    'Cookie': '_gcl_au=1.1.1018492616.1654861675; tk_or=%22https%3A%2F%2Fwww.google.com%2F%22;'\n",
    "              '_fbp=fb.1.1654861680272.1737963368;'\n",
    "              '_hjSessionUser_2739501=eyJpZCI6IjYyY2QzNDU0LTk4ZWMtNTBiYi1iMWJjLWQwMjNkYTM0ZTRlZiIsImNyZWF0ZWQiOjE2NTQ4NjE2ODA1NDQsImV4aXN0aW5nIjp0cnVlfQ==; usetiful-visitor-ident=a8f91f19-1fa3-4ac8-31aa-1708dae1bb09;'\n",
    "              'crisp-client%2Fsession%2F2dc87a17-fcbe-4c6b-ac38-cbd56e9e2376=session_b17d699e-12b9-4efa-8bc5-d18afb10ef1f;'' crisp-client%2Fsocket%2F2dc87a17-fcbe-4c6b-ac38-cbd56e9e2376=1; _tcfpup=1657190242155; ti_ukp=88464a3d.db6d.32db.0076.2f019bfe974e; tk_lr=%22%22; _oauth_id_token_cookie_sub=628a43323f3cf5bd228b7d2d; _oauth_id_token_cookie=a1d86e78306d445e485622820ae6142c-34abd5be432210a729e77ec2f579d79b-981acd9ca773e68ee3780b76a0725d75-ebd2c27ba9280d08cc119b025d616c39; tk_r3d=%22%22; _ga=GA1.2.2136330129.1654861678; _gid=GA1.2.244785558.1657454838; _tcSessInfo={\"timestamp\":1657454841440,\"pageView\":1}; _hjSession_2739501=eyJpZCI6IjU1OWM3ODZhLWIwMWMtNDZkMC1iNTcxLTFlNWVhODU3N2E3MSIsImNyZWF0ZWQiOjE2NTc0NTQ4NDIzOTIsImluU2FtcGxlIjp0cnVlfQ==; _hjAbsoluteSessionInProgress=0; PHPSESSID=j5bpkgqqdjqv5pvldo7bissm23; _oauth_id_token=KVS_SUB628a43323f3cf5bd228b7d2d; _ga_E61RPSQPM7=GS1.1.1657454837.7.0.1657454844.0'}\n",
    "# BROWSER_PATH = 'C:\\\\Users\\\\Mans\\\\Selenium_Chrome_driver\\\\chromedriver.exe'"
   ]
  },
  {
   "cell_type": "code",
   "execution_count": 5,
   "id": "925bad5b",
   "metadata": {},
   "outputs": [],
   "source": [
    "# Получим список стран, отраслей и размеров компаний с сайта \n",
    "\n",
    "json = requests.get(\n",
    "    \"https://apps.growmeorganic.com/api-product/load-filters-companies\",\n",
    "    headers=headers\n",
    ").json()"
   ]
  },
  {
   "cell_type": "code",
   "execution_count": 5,
   "id": "d26dadba",
   "metadata": {},
   "outputs": [
    {
     "ename": "TypeError",
     "evalue": "'module' object is not subscriptable",
     "output_type": "error",
     "traceback": [
      "\u001b[0;31m---------------------------------------------------------------------------\u001b[0m",
      "\u001b[0;31mTypeError\u001b[0m                                 Traceback (most recent call last)",
      "\u001b[0;32m/var/folders/66/5_066q1j1_d20ngxqgkkmcm40000gn/T/ipykernel_10666/3676157585.py\u001b[0m in \u001b[0;36m<module>\u001b[0;34m\u001b[0m\n\u001b[1;32m      1\u001b[0m \u001b[0;31m# Создадим отдельные списки для каждого критерия отбора\u001b[0m\u001b[0;34m\u001b[0m\u001b[0;34m\u001b[0m\u001b[0m\n\u001b[0;32m----> 2\u001b[0;31m \u001b[0mcountries\u001b[0m \u001b[0;34m=\u001b[0m \u001b[0mlist\u001b[0m\u001b[0;34m(\u001b[0m\u001b[0mmap\u001b[0m\u001b[0;34m(\u001b[0m\u001b[0;32mlambda\u001b[0m \u001b[0mx\u001b[0m\u001b[0;34m:\u001b[0m \u001b[0mx\u001b[0m\u001b[0;34m[\u001b[0m\u001b[0;34m'query'\u001b[0m\u001b[0;34m]\u001b[0m\u001b[0;34m,\u001b[0m \u001b[0mlist\u001b[0m\u001b[0;34m(\u001b[0m\u001b[0mjson\u001b[0m\u001b[0;34m[\u001b[0m\u001b[0;34m'countries'\u001b[0m\u001b[0;34m]\u001b[0m\u001b[0;34m)\u001b[0m\u001b[0;34m)\u001b[0m\u001b[0;34m)\u001b[0m\u001b[0;34m\u001b[0m\u001b[0;34m\u001b[0m\u001b[0m\n\u001b[0m\u001b[1;32m      3\u001b[0m \u001b[0mindustries\u001b[0m \u001b[0;34m=\u001b[0m \u001b[0mlist\u001b[0m\u001b[0;34m(\u001b[0m\u001b[0mmap\u001b[0m\u001b[0;34m(\u001b[0m\u001b[0;32mlambda\u001b[0m \u001b[0mx\u001b[0m\u001b[0;34m:\u001b[0m \u001b[0mx\u001b[0m\u001b[0;34m[\u001b[0m\u001b[0;34m'query'\u001b[0m\u001b[0;34m]\u001b[0m\u001b[0;34m,\u001b[0m \u001b[0mlist\u001b[0m\u001b[0;34m(\u001b[0m\u001b[0mjson\u001b[0m\u001b[0;34m[\u001b[0m\u001b[0;34m'industries'\u001b[0m\u001b[0;34m]\u001b[0m\u001b[0;34m)\u001b[0m\u001b[0;34m)\u001b[0m\u001b[0;34m)\u001b[0m\u001b[0;34m\u001b[0m\u001b[0;34m\u001b[0m\u001b[0m\n\u001b[1;32m      4\u001b[0m \u001b[0msizes\u001b[0m \u001b[0;34m=\u001b[0m \u001b[0mlist\u001b[0m\u001b[0;34m(\u001b[0m\u001b[0mmap\u001b[0m\u001b[0;34m(\u001b[0m\u001b[0;32mlambda\u001b[0m \u001b[0mx\u001b[0m\u001b[0;34m:\u001b[0m \u001b[0mx\u001b[0m\u001b[0;34m[\u001b[0m\u001b[0;34m'query'\u001b[0m\u001b[0;34m]\u001b[0m\u001b[0;34m,\u001b[0m \u001b[0mlist\u001b[0m\u001b[0;34m(\u001b[0m\u001b[0mjson\u001b[0m\u001b[0;34m[\u001b[0m\u001b[0;34m'sizes'\u001b[0m\u001b[0;34m]\u001b[0m\u001b[0;34m)\u001b[0m\u001b[0;34m)\u001b[0m\u001b[0;34m)\u001b[0m\u001b[0;34m\u001b[0m\u001b[0;34m\u001b[0m\u001b[0m\n",
      "\u001b[0;31mTypeError\u001b[0m: 'module' object is not subscriptable"
     ]
    }
   ],
   "source": [
    "# Создадим отдельные списки для каждого критерия отбора\n",
    "countries = list(map(lambda x: x['query'], list(json['countries'])))\n",
    "industries = list(map(lambda x: x['query'], list(json['industries'])))\n",
    "sizes = list(map(lambda x: x['query'], list(json['sizes'])))"
   ]
  },
  {
   "cell_type": "code",
   "execution_count": 13,
   "id": "e74f27a1",
   "metadata": {},
   "outputs": [],
   "source": [
    "def url_parser(country, industry) -> dict:\n",
    "     \n",
    "    # Создадим пустой список ссылок с ключом 'industry'\n",
    "    country_companies[country][industry] = []\n",
    "    \n",
    "    count = 0\n",
    "    for size in sizes:\n",
    "\n",
    "        count = count + 1\n",
    "\n",
    "        # Отправим post запрос с требуемыми критериями\n",
    "        requests.post('https://apps.growmeorganic.com/api-product/trigger-company-explorer-task', \n",
    "                       headers=headers,\n",
    "                       data = {\"country\"  : country,\n",
    "                               \"industry\" : industry,\n",
    "                               \"size\"     : size}) \n",
    "\n",
    "        # Пока ссылка не появится в списке, дальше не пойдем \n",
    "        while len(country_companies[country][industry]) < count:\n",
    "\n",
    "            #Имитируем ожидание\n",
    "            sleep(6*float(np.random.rand(1)))\n",
    "\n",
    "            # Отправим get запрос, чтобы получить ссылку на нужные данные\n",
    "            try:\n",
    "                    file_url = requests.get('https://apps.growmeorganic.com/api-product/load-companies-tasks-exported', \n",
    "                                                                             headers=headers).json()['data'][0]['file_url']\n",
    "                    if file_url != None:\n",
    "                        country_companies[country][industry].append(file_url)\n",
    "            except:\n",
    "                    pass\n",
    "\n",
    "    return country_companies"
   ]
  },
  {
   "cell_type": "code",
   "execution_count": 382,
   "id": "8643d1f4",
   "metadata": {},
   "outputs": [],
   "source": [
    "def urls_to_excel():\n",
    "    # Выгрузим получившиеся ссылки\n",
    "    file_url = requests.get('https://apps.growmeorganic.com/api-product/load-companies-tasks-exported', \n",
    "                                                                             headers=headers).json()\n",
    "    u = [url['file_url'] for url in file_url['data']]\n",
    "    \n",
    "    data = pd.DataFrame()\n",
    "\n",
    "    for url in u:\n",
    "    \n",
    "        excel = pd.read_excel(url)\n",
    "        data = data.concat([aust,excel])\n",
    "    \n",
    "    data.drop_duplicates(keep='last').to_excel('Downloads/data.xlsx')"
   ]
  },
  {
   "cell_type": "code",
   "execution_count": 8,
   "id": "87494a69",
   "metadata": {},
   "outputs": [],
   "source": [
    "file_url = requests.get('https://apps.growmeorganic.com/api-product/load-companies-tasks-exported', \n",
    "                                                                             headers=headers).json()\n",
    "u = [url['file_url'] for url in file_url['data']]#\n",
    "    "
   ]
  },
  {
   "cell_type": "code",
   "execution_count": null,
   "id": "9973ff2f",
   "metadata": {},
   "outputs": [],
   "source": [
    "country = 'Belgium'\n",
    "country_companies = {country:{}}\n",
    "\n",
    "for industry in industries:\n",
    "    country_companies = url_parser(country, industry)"
   ]
  },
  {
   "cell_type": "code",
   "execution_count": 425,
   "id": "d260605d",
   "metadata": {},
   "outputs": [],
   "source": [
    "data = pd.read_excel('Downloads/data/data.xlsx')"
   ]
  },
  {
   "cell_type": "code",
   "execution_count": 427,
   "id": "e65b1224",
   "metadata": {},
   "outputs": [
    {
     "data": {
      "text/plain": [
       "country\n",
       "austria            11975\n",
       "france             23645\n",
       "united kingdom    612999\n",
       "Name: name, dtype: int64"
      ]
     },
     "execution_count": 427,
     "metadata": {},
     "output_type": "execute_result"
    }
   ],
   "source": [
    "data.groupby('country').count()['name']"
   ]
  },
  {
   "cell_type": "code",
   "execution_count": 14,
   "id": "07534ff0",
   "metadata": {},
   "outputs": [
    {
     "ename": "NameError",
     "evalue": "name 'country_companies' is not defined",
     "output_type": "error",
     "traceback": [
      "\u001b[1;31m---------------------------------------------------------------------------\u001b[0m",
      "\u001b[1;31mNameError\u001b[0m                                 Traceback (most recent call last)",
      "Input \u001b[1;32mIn [14]\u001b[0m, in \u001b[0;36m<cell line: 1>\u001b[1;34m()\u001b[0m\n\u001b[1;32m----> 1\u001b[0m \u001b[43mcountry_companies\u001b[49m\n",
      "\u001b[1;31mNameError\u001b[0m: name 'country_companies' is not defined"
     ]
    }
   ],
   "source": []
  }
 ],
 "metadata": {
  "kernelspec": {
   "display_name": "Python 3 (ipykernel)",
   "language": "python",
   "name": "python3"
  },
  "language_info": {
   "codemirror_mode": {
    "name": "ipython",
    "version": 3
   },
   "file_extension": ".py",
   "mimetype": "text/x-python",
   "name": "python",
   "nbconvert_exporter": "python",
   "pygments_lexer": "ipython3",
   "version": "3.9.7"
  }
 },
 "nbformat": 4,
 "nbformat_minor": 5
}
